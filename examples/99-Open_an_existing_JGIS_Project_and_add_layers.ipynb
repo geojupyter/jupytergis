{
 "cells": [
  {
   "cell_type": "markdown",
   "id": "1008b547-f396-4960-8a80-118370f0fab1",
   "metadata": {
    "editable": true,
    "slideshow": {
     "slide_type": ""
    },
    "tags": []
   },
   "source": [
    "# JupyterGIS Python API"
   ]
  },
  {
   "cell_type": "markdown",
   "id": "28c64dd8-6b90-4408-bbeb-e5037add1fbc",
   "metadata": {
    "editable": true,
    "slideshow": {
     "slide_type": ""
    },
    "tags": []
   },
   "source": [
    "#### Simple usage of JupyterGIS"
   ]
  },
  {
   "cell_type": "code",
   "execution_count": null,
   "id": "050e5936-f9e1-44ff-8bc9-a8556d7643ee",
   "metadata": {
    "editable": true,
    "slideshow": {
     "slide_type": ""
    },
    "tags": []
   },
   "outputs": [],
   "source": [
    "from jupytergis import GISDocument"
   ]
  },
  {
   "cell_type": "code",
   "execution_count": null,
   "id": "9821d466-6ae7-418f-aea7-9d67153da7d6",
   "metadata": {
    "editable": true,
    "slideshow": {
     "slide_type": ""
    },
    "tags": []
   },
   "outputs": [],
   "source": [
    "doc = GISDocument(\"data/france_hiking.jGIS\")\n",
    "doc"
   ]
  },
  {
   "cell_type": "code",
   "execution_count": null,
   "id": "5938ba70-36d7-4af3-b877-815464ef6d1a",
   "metadata": {
    "editable": true,
    "slideshow": {
     "slide_type": ""
    },
    "tags": []
   },
   "outputs": [],
   "source": [
    "doc.add_raster_layer(\n",
    "    url=\"https://mt1.google.com/vt/lyrs=y&x={x}&y={y}&z={z}\",\n",
    "    name=\"Google Satellite\",\n",
    "    attribution=\"Google\",\n",
    "    opacity=0.6,\n",
    ")\n",
    "doc"
   ]
  },
  {
   "cell_type": "code",
   "execution_count": null,
   "id": "69ac2a9a-d9a9-4170-b1f5-451b9fd5780e",
   "metadata": {
    "editable": true,
    "slideshow": {
     "slide_type": ""
    },
    "tags": []
   },
   "outputs": [],
   "source": [
    "doc.add_geojson_layer(path=\"data/france_regions.geojson\")"
   ]
  },
  {
   "cell_type": "code",
   "execution_count": null,
   "id": "3629be32-bf06-4f68-a734-9af3cc17a7e3",
   "metadata": {
    "editable": true,
    "slideshow": {
     "slide_type": ""
    },
    "tags": []
   },
   "outputs": [],
   "source": [
    "doc.add_image_layer(\n",
    "    url=\"https://maplibre.org/maplibre-gl-js/docs/assets/radar.gif\",\n",
    "    coordinates=[\n",
    "        [-80.425, 46.437],\n",
    "        [-71.516, 46.437],\n",
    "        [-71.516, 37.936],\n",
    "        [-80.425, 37.936],\n",
    "    ],\n",
    ")"
   ]
  }
 ],
 "metadata": {
  "kernelspec": {
   "display_name": "geoenv",
   "language": "python",
   "name": "python3"
  },
  "language_info": {
   "codemirror_mode": {
    "name": "ipython",
    "version": 3
   },
   "file_extension": ".py",
   "mimetype": "text/x-python",
   "name": "python",
   "nbconvert_exporter": "python",
   "pygments_lexer": "ipython3",
   "version": "3.10.5"
  }
 },
 "nbformat": 4,
 "nbformat_minor": 5
}
