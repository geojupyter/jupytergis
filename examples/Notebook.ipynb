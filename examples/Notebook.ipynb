{
 "cells": [
  {
   "cell_type": "markdown",
   "id": "1008b547-f396-4960-8a80-118370f0fab1",
   "metadata": {},
   "source": [
    "# JupyterGIS Python API"
   ]
  },
  {
   "cell_type": "markdown",
   "id": "28c64dd8-6b90-4408-bbeb-e5037add1fbc",
   "metadata": {},
   "source": [
    "#### Simple usage"
   ]
  },
  {
   "cell_type": "code",
   "execution_count": null,
   "id": "050e5936-f9e1-44ff-8bc9-a8556d7643ee",
   "metadata": {},
   "outputs": [],
   "source": [
    "from jupytergis_lab import GISDocument"
   ]
  },
  {
   "cell_type": "code",
   "execution_count": null,
   "id": "9821d466-6ae7-418f-aea7-9d67153da7d6",
   "metadata": {},
   "outputs": [],
   "source": [
    "doc = GISDocument(\"france_hiking.jGIS\")"
   ]
  },
  {
   "cell_type": "code",
   "execution_count": null,
   "id": "f4a7000c-1bfc-4d41-8a0b-5c82c6e67716",
   "metadata": {},
   "outputs": [],
   "source": [
    "doc"
   ]
  },
  {
   "cell_type": "code",
   "execution_count": null,
   "id": "5938ba70-36d7-4af3-b877-815464ef6d1a",
   "metadata": {},
   "outputs": [],
   "source": [
    "doc.add_raster_layer(\n",
    "    url=\"https://mt1.google.com/vt/lyrs=y&x={x}&y={y}&z={z}\",\n",
    "    name=\"Google Satellite\",\n",
    "    attribution=\"Google\",\n",
    "    opacity=0.6,\n",
    ")"
   ]
  },
  {
   "cell_type": "code",
   "execution_count": null,
   "id": "69ac2a9a-d9a9-4170-b1f5-451b9fd5780e",
   "metadata": {},
   "outputs": [],
   "source": [
    "doc.add_geojson_layer(path=\"france_regions.json\")"
   ]
  },
  {
   "cell_type": "code",
   "execution_count": null,
   "id": "3629be32-bf06-4f68-a734-9af3cc17a7e3",
   "metadata": {},
   "outputs": [],
   "source": [
    "doc.add_image_layer(\n",
    "    url=\"https://maplibre.org/maplibre-gl-js/docs/assets/radar.gif\",\n",
    "    coordinates=[\n",
    "        [-80.425, 46.437],\n",
    "        [-71.516, 46.437],\n",
    "        [-71.516, 37.936],\n",
    "        [-80.425, 37.936],\n",
    "    ],\n",
    ")"
   ]
  }
 ],
 "metadata": {
  "kernelspec": {
   "display_name": "Python 3 (ipykernel)",
   "language": "python",
   "name": "python3"
  },
  "language_info": {
   "codemirror_mode": {
    "name": "ipython",
    "version": 3
   },
   "file_extension": ".py",
   "mimetype": "text/x-python",
   "name": "python",
   "nbconvert_exporter": "python",
   "pygments_lexer": "ipython3",
   "version": "3.12.4"
  }
 },
 "nbformat": 4,
 "nbformat_minor": 5
}
