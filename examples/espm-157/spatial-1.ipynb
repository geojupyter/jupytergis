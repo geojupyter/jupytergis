{
 "cells": [
  {
   "cell_type": "markdown",
   "id": "c3f4096f-cbd3-43e8-a986-520681f03581",
   "metadata": {},
   "source": [
    "# ESPM 157 - Intro to Spatial Data\n",
    "\n",
    "<https://espm-157.carlboettiger.info/spatial-1>\n",
    "\n",
    "Install dependencies:\n",
    "\n",
    "```bash\n",
    "micromamba install geopandas ibis-duckdb\n",
    "```"
   ]
  },
  {
   "cell_type": "code",
   "execution_count": 1,
   "execution_state": "idle",
   "id": "b76ae1f0-334e-41c0-9533-407c879b4ad6",
   "metadata": {},
   "outputs": [],
   "source": [
    "import ibis\n",
    "\n",
    "con = ibis.duckdb.connect()"
   ]
  },
  {
   "cell_type": "code",
   "execution_count": 2,
   "execution_state": "idle",
   "id": "837aa4e0-5eeb-48c1-97ce-3f8706503911",
   "metadata": {},
   "outputs": [],
   "source": [
    "redlines = con.read_geo(\"/vsicurl/https://dsl.richmond.edu/panorama/redlining/static/mappinginequality.gpkg\")"
   ]
  },
  {
   "cell_type": "code",
   "execution_count": 3,
   "execution_state": "idle",
   "id": "5c91dfaa-075c-401f-adeb-18bed678103b",
   "metadata": {},
   "outputs": [
    {
     "data": {
      "text/html": [
       "<div>\n",
       "<style scoped>\n",
       "    .dataframe tbody tr th:only-of-type {\n",
       "        vertical-align: middle;\n",
       "    }\n",
       "\n",
       "    .dataframe tbody tr th {\n",
       "        vertical-align: top;\n",
       "    }\n",
       "\n",
       "    .dataframe thead th {\n",
       "        text-align: right;\n",
       "    }\n",
       "</style>\n",
       "<table border=\"1\" class=\"dataframe\">\n",
       "  <thead>\n",
       "    <tr style=\"text-align: right;\">\n",
       "      <th></th>\n",
       "      <th>city</th>\n",
       "    </tr>\n",
       "  </thead>\n",
       "  <tbody>\n",
       "    <tr>\n",
       "      <th>0</th>\n",
       "      <td>Denver</td>\n",
       "    </tr>\n",
       "    <tr>\n",
       "      <th>1</th>\n",
       "      <td>Miami</td>\n",
       "    </tr>\n",
       "    <tr>\n",
       "      <th>2</th>\n",
       "      <td>St. Petersburg</td>\n",
       "    </tr>\n",
       "    <tr>\n",
       "      <th>3</th>\n",
       "      <td>Waterloo</td>\n",
       "    </tr>\n",
       "    <tr>\n",
       "      <th>4</th>\n",
       "      <td>Peoria</td>\n",
       "    </tr>\n",
       "    <tr>\n",
       "      <th>5</th>\n",
       "      <td>South Bend</td>\n",
       "    </tr>\n",
       "    <tr>\n",
       "      <th>6</th>\n",
       "      <td>Junction City</td>\n",
       "    </tr>\n",
       "    <tr>\n",
       "      <th>7</th>\n",
       "      <td>Belmont</td>\n",
       "    </tr>\n",
       "    <tr>\n",
       "      <th>8</th>\n",
       "      <td>Fall River</td>\n",
       "    </tr>\n",
       "    <tr>\n",
       "      <th>9</th>\n",
       "      <td>Holyoke Chicopee</td>\n",
       "    </tr>\n",
       "  </tbody>\n",
       "</table>\n",
       "</div>"
      ],
      "text/plain": [
       "               city\n",
       "0            Denver\n",
       "1             Miami\n",
       "2    St. Petersburg\n",
       "3          Waterloo\n",
       "4            Peoria\n",
       "5        South Bend\n",
       "6     Junction City\n",
       "7           Belmont\n",
       "8        Fall River\n",
       "9  Holyoke Chicopee"
      ]
     },
     "execution_count": 3,
     "metadata": {},
     "output_type": "execute_result"
    }
   ],
   "source": [
    "# First 10 distinct cities\n",
    "redlines.select(redlines.city).distinct().head(10).execute()"
   ]
  },
  {
   "cell_type": "code",
   "execution_count": 4,
   "execution_state": "idle",
   "id": "4d3319fa-b3b4-4931-b073-98b649e41b65",
   "metadata": {},
   "outputs": [],
   "source": [
    "city = redlines.filter(redlines.city == \"New Haven\")"
   ]
  },
  {
   "cell_type": "code",
   "execution_count": 5,
   "execution_state": "idle",
   "id": "34f7f4d6-28d6-4716-8e03-ac32c6ae3bb7",
   "metadata": {},
   "outputs": [
    {
     "data": {
      "text/plain": [
       "<Axes: >"
      ]
     },
     "execution_count": 5,
     "metadata": {},
     "output_type": "execute_result"
    },
    {
     "data": {
      "image/png": "[encoded data removed]",
      "text/plain": [
       "<Figure size 640x480 with 1 Axes>"
      ]
     },
     "metadata": {},
     "output_type": "display_data"
    }
   ],
   "source": [
    "city_gdf = city.head().execute()\n",
    "city_gdf.plot()"
   ]
  },
  {
   "cell_type": "markdown",
   "id": "d37a610a-1444-43a3-900f-dfe16a890ab9",
   "metadata": {},
   "source": [
    "## OK, but what about spatial context?\n",
    "\n",
    "I want to explore this data more interactively."
   ]
  },
  {
   "cell_type": "code",
   "execution_count": 6,
   "execution_state": "idle",
   "id": "94875994-926a-46b4-be29-be7c676a9905",
   "metadata": {},
   "outputs": [],
   "source": [
    "# from jupytergis_lab import GISDocument\n",
    "\n",
    "# doc = GISDocument(\"./debug.jGIS\")\n",
    "# doc"
   ]
  },
  {
   "cell_type": "code",
   "execution_count": 7,
   "execution_state": "idle",
   "id": "642e9281-d9d5-4f35-a7f6-65bf1096cb1f",
   "metadata": {},
   "outputs": [],
   "source": [
    "# city_gdf.to_file(\"new_haven.json\")"
   ]
  },
  {
   "cell_type": "code",
   "execution_count": 9,
   "execution_state": "idle",
   "id": "6e68aaac-dfc0-42d8-a3b9-05fce59524b2",
   "metadata": {},
   "outputs": [
    {
     "data": {
      "application/vnd.jupyter.ywidget-view+json": {
       "model_id": "17493598bcbe4db1b80e0b5f0273bf3d",
       "version_major": 2,
       "version_minor": 0
      },
      "text/plain": [
       "<jupytergis_lab.notebook.gis_document.GISDocument object at 0x75baaebd6270>"
      ]
     },
     "metadata": {},
     "output_type": "display_data"
    }
   ],
   "source": [
    "from jupytergis_lab.notebook.geo_debug import geo_debug\n",
    "\n",
    "\n",
    "geo_debug(\"new_haven.json\")"
   ]
  }
 ],
 "metadata": {
  "kernelspec": {
   "display_name": "Python 3 (ipykernel)",
   "language": "python",
   "name": "python3"
  },
  "language_info": {
   "codemirror_mode": {
    "name": "ipython",
    "version": 3
   },
   "file_extension": ".py",
   "mimetype": "text/x-python",
   "name": "python",
   "nbconvert_exporter": "python",
   "pygments_lexer": "ipython3",
   "version": "3.12.8"
  }
 },
 "nbformat": 4,
 "nbformat_minor": 5
}
