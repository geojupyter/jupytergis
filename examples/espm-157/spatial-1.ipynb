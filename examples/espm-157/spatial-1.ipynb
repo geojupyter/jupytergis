{
 "cells": [
  {
   "cell_type": "markdown",
   "id": "c3f4096f-cbd3-43e8-a986-520681f03581",
   "metadata": {},
   "source": [
    "# ESPM 157 - Intro to Spatial Data\n",
    "\n",
    "<https://espm-157.carlboettiger.info/spatial-1>"
   ]
  },
  {
   "cell_type": "code",
   "execution_count": 1,
   "execution_state": "idle",
   "id": "b76ae1f0-334e-41c0-9533-407c879b4ad6",
   "metadata": {},
   "outputs": [],
   "source": [
    "import ibis\n",
    "\n",
    "con = ibis.duckdb.connect()"
   ]
  },
  {
   "cell_type": "code",
   "execution_count": 2,
   "execution_state": "idle",
   "id": "837aa4e0-5eeb-48c1-97ce-3f8706503911",
   "metadata": {},
   "outputs": [],
   "source": [
    "# IOException: IO Error: GDAL Error (11): CURL error: error setting certificate file: /etc/pki/tls/certs/ca-bundle.crt\n",
    "# redlines = con.read_geo(\"/vsicurl/https://dsl.richmond.edu/panorama/redlining/static/mappinginequality.gpkg\")\n",
    "\n",
    "redlines = con.read_geo(\"./mappinginequality.gpkg\")"
   ]
  },
  {
   "cell_type": "code",
   "execution_count": 3,
   "execution_state": "idle",
   "id": "5c91dfaa-075c-401f-adeb-18bed678103b",
   "metadata": {},
   "outputs": [
    {
     "data": {
      "text/html": [
       "<div>\n",
       "<style scoped>\n",
       "    .dataframe tbody tr th:only-of-type {\n",
       "        vertical-align: middle;\n",
       "    }\n",
       "\n",
       "    .dataframe tbody tr th {\n",
       "        vertical-align: top;\n",
       "    }\n",
       "\n",
       "    .dataframe thead th {\n",
       "        text-align: right;\n",
       "    }\n",
       "</style>\n",
       "<table border=\"1\" class=\"dataframe\">\n",
       "  <thead>\n",
       "    <tr style=\"text-align: right;\">\n",
       "      <th></th>\n",
       "      <th>city</th>\n",
       "    </tr>\n",
       "  </thead>\n",
       "  <tbody>\n",
       "    <tr>\n",
       "      <th>0</th>\n",
       "      <td>Montgomery</td>\n",
       "    </tr>\n",
       "    <tr>\n",
       "      <th>1</th>\n",
       "      <td>Fresno</td>\n",
       "    </tr>\n",
       "    <tr>\n",
       "      <th>2</th>\n",
       "      <td>Colorado Springs</td>\n",
       "    </tr>\n",
       "    <tr>\n",
       "      <th>3</th>\n",
       "      <td>DeLand</td>\n",
       "    </tr>\n",
       "    <tr>\n",
       "      <th>4</th>\n",
       "      <td>Orlando</td>\n",
       "    </tr>\n",
       "    <tr>\n",
       "      <th>5</th>\n",
       "      <td>Grand Rapids</td>\n",
       "    </tr>\n",
       "    <tr>\n",
       "      <th>6</th>\n",
       "      <td>Fargo</td>\n",
       "    </tr>\n",
       "    <tr>\n",
       "      <th>7</th>\n",
       "      <td>Atlantic City</td>\n",
       "    </tr>\n",
       "    <tr>\n",
       "      <th>8</th>\n",
       "      <td>Atchison</td>\n",
       "    </tr>\n",
       "    <tr>\n",
       "      <th>9</th>\n",
       "      <td>Brookline</td>\n",
       "    </tr>\n",
       "  </tbody>\n",
       "</table>\n",
       "</div>"
      ],
      "text/plain": [
       "               city\n",
       "0        Montgomery\n",
       "1            Fresno\n",
       "2  Colorado Springs\n",
       "3            DeLand\n",
       "4           Orlando\n",
       "5      Grand Rapids\n",
       "6             Fargo\n",
       "7     Atlantic City\n",
       "8          Atchison\n",
       "9         Brookline"
      ]
     },
     "execution_count": 3,
     "metadata": {},
     "output_type": "execute_result"
    }
   ],
   "source": [
    "redlines.select(redlines.city).distinct().head(10).execute()"
   ]
  },
  {
   "cell_type": "code",
   "execution_count": 4,
   "execution_state": "idle",
   "id": "4d3319fa-b3b4-4931-b073-98b649e41b65",
   "metadata": {},
   "outputs": [],
   "source": [
    "# city = redlines.filter(_.city == \"Birmingham\")"
   ]
  },
  {
   "cell_type": "code",
   "execution_count": 5,
   "execution_state": "idle",
   "id": "c6b07243-9e7f-4b07-94b3-52e78019a59e",
   "metadata": {},
   "outputs": [
    {
     "data": {
      "text/plain": [
       "<Axes: >"
      ]
     },
     "execution_count": 5,
     "metadata": {},
     "output_type": "execute_result"
    },
    {
     "data": {
      "image/png": "[encoded data removed]",
      "text/plain": [
       "<Figure size 640x480 with 1 Axes>"
      ]
     },
     "metadata": {},
     "output_type": "display_data"
    }
   ],
   "source": [
    "city_gdf = redlines.head().execute()\n",
    "city_gdf.plot()"
   ]
  },
  {
   "cell_type": "code",
   "execution_count": 6,
   "execution_state": "idle",
   "id": "34f7f4d6-28d6-4716-8e03-ac32c6ae3bb7",
   "metadata": {},
   "outputs": [],
   "source": [
    "# city_gdf = city.head().execute()\n",
    "# city_gdf.plot()"
   ]
  },
  {
   "cell_type": "markdown",
   "id": "d37a610a-1444-43a3-900f-dfe16a890ab9",
   "metadata": {},
   "source": [
    "## OK, but what about spatial context?\n",
    "\n",
    "I want to explore this data more interactively."
   ]
  },
  {
   "cell_type": "code",
   "execution_count": 7,
   "execution_state": "idle",
   "id": "94875994-926a-46b4-be29-be7c676a9905",
   "metadata": {},
   "outputs": [
    {
     "data": {
      "application/vnd.jupyter.ywidget-view+json": {
       "model_id": "573317eb5d694bb78052fab671454827",
       "version_major": 2,
       "version_minor": 0
      },
      "text/plain": [
       "<jupytergis_lab.notebook.gis_document.GISDocument object at 0x7619a835bd10>"
      ]
     },
     "execution_count": 7,
     "metadata": {},
     "output_type": "execute_result"
    }
   ],
   "source": [
    "from jupytergis_lab import GISDocument\n",
    "\n",
    "doc = GISDocument(\"./debug.jgis\")\n",
    "doc"
   ]
  },
  {
   "cell_type": "code",
   "execution_count": 8,
   "execution_state": "idle",
   "id": "642e9281-d9d5-4f35-a7f6-65bf1096cb1f",
   "metadata": {},
   "outputs": [
    {
     "name": "stderr",
     "output_type": "stream",
     "text": [
      "/home/mfisher/.local/share/micromamba/envs/jupytergis-dev/lib/python3.12/site-packages/pyogrio/geopandas.py:662: UserWarning: 'crs' was not provided.  The output dataset will not have projection information defined and may not be usable in other systems.\n",
      "  write(\n"
     ]
    }
   ],
   "source": [
    "city_gdf.to_file(\"new_haven.json\")"
   ]
  },
  {
   "cell_type": "code",
   "execution_count": 9,
   "execution_state": "idle",
   "id": "6e68aaac-dfc0-42d8-a3b9-05fce59524b2",
   "metadata": {},
   "outputs": [
    {
     "ename": "ModuleNotFoundError",
     "evalue": "No module named 'jupytergis'",
     "output_type": "error",
     "traceback": [
      "\u001b[0;31m---------------------------------------------------------------------------\u001b[0m",
      "\u001b[0;31mModuleNotFoundError\u001b[0m                       Traceback (most recent call last)",
      "Cell \u001b[0;32mIn[9], line 1\u001b[0m\n\u001b[0;32m----> 1\u001b[0m \u001b[38;5;28;01mfrom\u001b[39;00m\u001b[38;5;250m \u001b[39m\u001b[38;5;21;01mjupytergis\u001b[39;00m\u001b[38;5;21;01m.\u001b[39;00m\u001b[38;5;21;01mnotebook\u001b[39;00m\u001b[38;5;21;01m.\u001b[39;00m\u001b[38;5;21;01mgeo_debug\u001b[39;00m\u001b[38;5;250m \u001b[39m\u001b[38;5;28;01mimport\u001b[39;00m geo_debug\n\u001b[1;32m      4\u001b[0m geo_debug(city_gdf)\n",
      "\u001b[0;31mModuleNotFoundError\u001b[0m: No module named 'jupytergis'"
     ]
    }
   ],
   "source": [
    "from jupytergis.notebook.geo_debug import geo_debug\n",
    "\n",
    "\n",
    "geo_debug(city_gdf)"
   ]
  }
 ],
 "metadata": {
  "kernelspec": {
   "display_name": "Python 3 (ipykernel)",
   "language": "python",
   "name": "python3"
  },
  "language_info": {
   "codemirror_mode": {
    "name": "ipython",
    "version": 3
   },
   "file_extension": ".py",
   "mimetype": "text/x-python",
   "name": "python",
   "nbconvert_exporter": "python",
   "pygments_lexer": "ipython3",
   "version": "3.12.8"
  }
 },
 "nbformat": 4,
 "nbformat_minor": 5
}
