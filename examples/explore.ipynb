{
 "cells": [
  {
   "cell_type": "markdown",
   "id": "c3f4096f-cbd3-43e8-a986-520681f03581",
   "metadata": {},
   "source": [
    "# ESPM 157 - Intro to Spatial Data\n",
    "\n",
    "<https://espm-157.carlboettiger.info/spatial-1>\n",
    "\n",
    "Install dependencies:\n",
    "\n",
    "```bash\n",
    "micromamba install geopandas ibis-duckdb\n",
    "```"
   ]
  },
  {
   "cell_type": "code",
   "execution_count": null,
   "id": "b76ae1f0-334e-41c0-9533-407c879b4ad6",
   "metadata": {},
   "outputs": [],
   "source": [
    "import ibis\n",
    "\n",
    "con = ibis.duckdb.connect()"
   ]
  },
  {
   "cell_type": "code",
   "execution_count": null,
   "id": "837aa4e0-5eeb-48c1-97ce-3f8706503911",
   "metadata": {},
   "outputs": [],
   "source": [
    "redlines = con.read_geo(\n",
    "    \"/vsicurl/https://dsl.richmond.edu/panorama/redlining/static/mappinginequality.gpkg\"\n",
    ")"
   ]
  },
  {
   "cell_type": "code",
   "execution_count": null,
   "id": "4d3319fa-b3b4-4931-b073-98b649e41b65",
   "metadata": {},
   "outputs": [],
   "source": [
    "city = redlines.filter(redlines.city == \"New Haven\")"
   ]
  },
  {
   "cell_type": "code",
   "execution_count": null,
   "id": "34f7f4d6-28d6-4716-8e03-ac32c6ae3bb7",
   "metadata": {
    "scrolled": true
   },
   "outputs": [],
   "source": [
    "city_gdf = city.head().execute()\n",
    "city_gdf.plot()"
   ]
  },
  {
   "cell_type": "markdown",
   "id": "d37a610a-1444-43a3-900f-dfe16a890ab9",
   "metadata": {},
   "source": [
    "## OK, but what about spatial context?\n",
    "\n",
    "I want to explore this data more interactively."
   ]
  },
  {
   "cell_type": "code",
   "execution_count": null,
   "id": "6e68aaac-dfc0-42d8-a3b9-05fce59524b2",
   "metadata": {},
   "outputs": [],
   "source": [
    "from jupytergis import explore\n",
    "\n",
    "# Open a new exploration window\n",
    "explore(city_gdf, layer_name=\"New Haven\", basemap=\"dark\")"
   ]
  }
 ],
 "metadata": {
  "kernelspec": {
   "display_name": "Python 3 (ipykernel)",
   "language": "python",
   "name": "python3"
  },
  "language_info": {
   "codemirror_mode": {
    "name": "ipython",
    "version": 3
   },
   "file_extension": ".py",
   "mimetype": "text/x-python",
   "name": "python",
   "nbconvert_exporter": "python",
   "pygments_lexer": "ipython3",
   "version": "3.12.9"
  }
 },
 "nbformat": 4,
 "nbformat_minor": 5
}
