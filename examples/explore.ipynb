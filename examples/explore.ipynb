{
 "cells": [
  {
   "cell_type": "code",
   "execution_count": 1,
   "id": "3c789a1b-328a-4cfa-b6b0-a4bb8acdc27f",
   "metadata": {},
   "outputs": [],
   "source": [
    "from jupytergis import explore\n",
    "\n",
    "explore(\"eq.json\")"
   ]
  },
  {
   "cell_type": "code",
   "execution_count": null,
   "id": "e144d26f-e35e-4b73-a99b-1f9dd2f73b45",
   "metadata": {},
   "outputs": [],
   "source": []
  }
 ],
 "metadata": {
  "kernelspec": {
   "display_name": "Python 3 (ipykernel)",
   "language": "python",
   "name": "python3"
  },
  "language_info": {
   "codemirror_mode": {
    "name": "ipython",
    "version": 3
   },
   "file_extension": ".py",
   "mimetype": "text/x-python",
   "name": "python",
   "nbconvert_exporter": "python",
   "pygments_lexer": "ipython3",
   "version": "3.12.9"
  }
 },
 "nbformat": 4,
 "nbformat_minor": 5
}
