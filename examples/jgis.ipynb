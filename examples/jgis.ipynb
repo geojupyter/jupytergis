{
 "cells": [
  {
   "cell_type": "code",
   "execution_count": null,
   "id": "639b7342-688d-47c6-be9f-d4f7e60b74e7",
   "metadata": {},
   "outputs": [],
   "source": [
    "from jupytergis import GISDocument\n",
    "\n",
    "doc = GISDocument(\"france_hiking.jGIS\")\n",
    "doc"
   ]
  }
 ],
 "metadata": {
  "kernelspec": {
   "display_name": "Python 3 (ipykernel)",
   "language": "python",
   "name": "python3"
  },
  "language_info": {
   "codemirror_mode": {
    "name": "ipython",
    "version": 3
   },
   "file_extension": ".py",
   "mimetype": "text/x-python",
   "name": "python",
   "nbconvert_exporter": "python",
   "pygments_lexer": "ipython3",
   "version": "3.10.0"
  }
 },
 "nbformat": 4,
 "nbformat_minor": 5
}
