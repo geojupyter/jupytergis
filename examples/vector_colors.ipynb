{
 "cells": [
  {
   "cell_type": "code",
   "execution_count": null,
   "id": "1f5dc83a-eebe-4090-8c7a-79c92510dc73",
   "metadata": {},
   "outputs": [],
   "source": [
    "from jupytergis import GISDocument\n",
    "\n",
    "doc = GISDocument()\n",
    "\n",
    "doc.add_raster_layer(url=\"https://tile.openstreetmap.org/{z}/{x}/{y}.png\")\n",
    "\n",
    "doc.add_geojson_layer(\n",
    "    path=\"france_regions.geojson\", color_expr={\"fill-color\": \"#FF0000\"}\n",
    ")\n",
    "\n",
    "doc.add_geojson_layer(path=\"eq.geojson\", color_expr={\"circle-fill-color\": \"#00FF00\"})\n",
    "\n",
    "\n",
    "doc"
   ]
  },
  {
   "cell_type": "code",
   "execution_count": null,
   "id": "9da5f69d-4b02-4056-bf64-ce4caa97d3cf",
   "metadata": {},
   "outputs": [],
   "source": [
    "doc.add_vectortile_layer(\n",
    "    url=\"https://basemaps.arcgis.com/arcgis/rest/services/World_Basemap_v2/VectorTileServer/tile/{z}/{y}/{x}.pbf\",\n",
    "    color_expr={\"fill-color\": \"#00FF00\", \"circle-fill-color\": \"#FF0000\"},\n",
    ")"
   ]
  }
 ],
 "metadata": {
  "kernelspec": {
   "display_name": "Python 3 (ipykernel)",
   "language": "python",
   "name": "python3"
  },
  "language_info": {
   "codemirror_mode": {
    "name": "ipython",
    "version": 3
   },
   "file_extension": ".py",
   "mimetype": "text/x-python",
   "name": "python",
   "nbconvert_exporter": "python",
   "pygments_lexer": "ipython3",
   "version": "3.11.11"
  }
 },
 "nbformat": 4,
 "nbformat_minor": 5
}
