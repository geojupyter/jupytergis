{
 "cells": [
  {
   "cell_type": "markdown",
   "id": "1008b547-f396-4960-8a80-118370f0fab1",
   "metadata": {},
   "source": [
    "# Computing tiles on the fly from an Xarray dataset"
   ]
  },
  {
   "cell_type": "markdown",
   "id": "2556b712-cdce-4c7f-a39f-958da083a398",
   "metadata": {},
   "source": [
    "In this notebook, we'll show how to visualize local data. To execute it, you will need to install these packages:"
   ]
  },
  {
   "cell_type": "code",
   "execution_count": null,
   "id": "a86a89b8-41b8-4908-9099-918941bab97f",
   "metadata": {
    "scrolled": true
   },
   "outputs": [],
   "source": [
    "!pip install httpx rioxarray xarray rich ipywidgets dask zarr anycorn fastapi titiler matplotlib"
   ]
  },
  {
   "cell_type": "code",
   "execution_count": null,
   "id": "13dafe7b-f644-4c96-b291-f050318d97dc",
   "metadata": {},
   "outputs": [],
   "source": [
    "from pathlib import Path\n",
    "from zipfile import ZipFile\n",
    "\n",
    "import httpx\n",
    "import rioxarray\n",
    "import xarray as xr\n",
    "from rich.progress import track\n",
    "\n",
    "from jupytergis import GISDocument"
   ]
  },
  {
   "cell_type": "markdown",
   "id": "b9b31479-6e96-4045-82f9-a91806b60231",
   "metadata": {},
   "source": [
    "We will display the DEM (digital elevation model) for Asia from the [HydroSHEDS](https://www.hydrosheds.org/) dataset, which represents the terrain. Let's first download the data:"
   ]
  },
  {
   "cell_type": "code",
   "execution_count": null,
   "id": "a5e5eecc-c70b-4bed-a7ed-b554f3dfc732",
   "metadata": {},
   "outputs": [],
   "source": [
    "url = \"https://edcintl.cr.usgs.gov/downloads/sciweb1/shared/hydrosheds/sa_30s_zip_grid/as_dem_30s_grid.zip\"\n",
    "filename = Path(url).name\n",
    "name = filename[:filename.find(\"_grid\")]\n",
    "adffile = Path(name) / name / \"w001001.adf\"\n",
    "\n",
    "if not adffile.exists():\n",
    "    with httpx.stream(\"GET\", url) as r, open(filename, \"wb\") as f:\n",
    "        total = int(r.headers[\"Content-Length\"]) / 1024\n",
    "        for data in track(r.iter_bytes(chunk_size=1024), total=total, description=\"Downloading\"):\n",
    "            f.write(data)\n",
    "        f.flush()\n",
    "    zip = ZipFile(filename)\n",
    "    zip.extractall(\".\")"
   ]
  },
  {
   "cell_type": "markdown",
   "id": "8cdcc353-45f2-45ae-b8fd-f4225f13a2da",
   "metadata": {},
   "source": [
    "It is a dataset that [Rasterio](https://rasterio.readthedocs.io) can open, but in order to get a nice `DataArray` with all the metadata taken into account, we'll open it with [rioxarray](https://corteva.github.io/rioxarray):"
   ]
  },
  {
   "cell_type": "code",
   "execution_count": null,
   "id": "d58d4462-a0d3-4e57-a889-58678511d58a",
   "metadata": {},
   "outputs": [],
   "source": [
    "da = rioxarray.open_rasterio(adffile, masked=True)\n",
    "da"
   ]
  },
  {
   "cell_type": "markdown",
   "id": "44f028c1-8207-4ca4-b082-d806387d9d1b",
   "metadata": {},
   "source": [
    "The projection is `EPSG:4326` (aka `WGS84`). Here the coordinate `x` corresponds to longitudes, and `y` to latitudes (in degrees). There is only one band."
   ]
  },
  {
   "cell_type": "code",
   "execution_count": null,
   "id": "a938ffad-22ed-433e-b602-6421513c25f1",
   "metadata": {},
   "outputs": [],
   "source": [
    "da = da.sel(band=1)"
   ]
  },
  {
   "cell_type": "markdown",
   "id": "bf242467-fdd7-40a5-8771-72c2f6a78885",
   "metadata": {},
   "source": [
    "The dataset can be too big to hold in memory, so we will chunk it into smaller pieces. That will also improve performances as the generation of a tile can be done in parallel using Dask."
   ]
  },
  {
   "cell_type": "code",
   "execution_count": null,
   "id": "3355a8a2-63dc-4462-9cd8-72b4172f5e5e",
   "metadata": {},
   "outputs": [],
   "source": [
    "da = da.chunk(dict(x=1000, y=1000))"
   ]
  },
  {
   "cell_type": "markdown",
   "id": "39bcaaf9-98ce-4925-a145-9dd9c12e7ca8",
   "metadata": {},
   "source": [
    "Now let's save this data array in a dataset, as a Zarr store:"
   ]
  },
  {
   "cell_type": "code",
   "execution_count": null,
   "id": "27955e68-43a1-4ca0-9b88-ae72ea979522",
   "metadata": {},
   "outputs": [],
   "source": [
    "ds = xr.Dataset(dict(dem=da))\n",
    "\n",
    "if not Path(\"dem.zarr\").exists():\n",
    "    ds.to_zarr(\"dem.zarr\")"
   ]
  },
  {
   "cell_type": "markdown",
   "id": "13929ed3-7775-4382-84a9-c0db8a79d743",
   "metadata": {},
   "source": [
    "We'll need the minimum and maximum values of the DEM to rescale our tiles:"
   ]
  },
  {
   "cell_type": "code",
   "execution_count": null,
   "id": "5ef2e3fc-846f-443f-a3e0-568bb39eb638",
   "metadata": {},
   "outputs": [],
   "source": [
    "vmin, vmax = int(ds.dem.min().compute()), int(ds.dem.max().compute())\n",
    "vmin, vmax"
   ]
  },
  {
   "cell_type": "markdown",
   "id": "16fc7621-92ed-4e5c-ac9d-0952d83f7a17",
   "metadata": {},
   "source": [
    "We are now ready to show a *tiler layer*, which computes the tiles on the fly:"
   ]
  },
  {
   "cell_type": "code",
   "execution_count": null,
   "id": "05272848-34f6-4419-a358-d972524cf8e4",
   "metadata": {},
   "outputs": [],
   "source": [
    "Path(\"xarray.jGIS\").unlink(missing_ok=True)\n",
    "doc = GISDocument(\"xarray.jGIS\")\n",
    "doc"
   ]
  },
  {
   "cell_type": "code",
   "execution_count": null,
   "id": "724afe2d-8783-40d7-ae32-c7c71bd66d04",
   "metadata": {
    "scrolled": true
   },
   "outputs": [],
   "source": [
    "await doc.add_tiler_layer(\n",
    "    name=\"Xarray Layer\",\n",
    "    path=\"dem.zarr\",\n",
    "    variable=\"dem\",\n",
    "    colormap_name=\"viridis\",\n",
    "    rescale=(vmin, vmax),\n",
    ")"
   ]
  },
  {
   "cell_type": "code",
   "execution_count": null,
   "id": "39d9711b-d4fd-4e25-8cdf-f7345f69efc9",
   "metadata": {},
   "outputs": [],
   "source": []
  }
 ],
 "metadata": {
  "kernelspec": {
   "display_name": "Python 3 (ipykernel)",
   "language": "python",
   "name": "python3"
  },
  "language_info": {
   "codemirror_mode": {
    "name": "ipython",
    "version": 3
   },
   "file_extension": ".py",
   "mimetype": "text/x-python",
   "name": "python",
   "nbconvert_exporter": "python",
   "pygments_lexer": "ipython3",
   "version": "3.13.3"
  }
 },
 "nbformat": 4,
 "nbformat_minor": 5
}
