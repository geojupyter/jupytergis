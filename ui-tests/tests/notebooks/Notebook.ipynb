{
 "cells": [
  {
   "cell_type": "code",
   "execution_count": null,
   "id": "d0f18a1a-7eda-4387-a2a3-ed0530c82548",
   "metadata": {},
   "outputs": [],
   "source": [
    "from jupytergis_lab import GISDocument\n",
    "\n",
    "doc = GISDocument()\n",
    "\n",
    "doc.add_raster_layer(\n",
    "    url=\"https://mt1.google.com/vt/lyrs=y&x={x}&y={y}&z={z}\",\n",
    "    name=\"Google Satellite\",\n",
    "    attribution=\"Google\",\n",
    "    opacity=0.6,\n",
    ")\n",
    "\n",
    "doc"
   ]
  },
  {
   "cell_type": "code",
   "execution_count": null,
   "id": "b65dce55-9364-479e-ac7b-384cda9f422e",
   "metadata": {},
   "outputs": [],
   "source": [
    "doc = GISDocument(latitude=40.775, longitude=-73.973, zoom=13)\n",
    "\n",
    "doc.add_raster_layer(\n",
    "    url=\"https://tile.openstreetmap.org/{z}/{x}/{y}.png\",\n",
    "    name=\"Open Street Map\",\n",
    "    attribution=\"OpenStreetMap\",\n",
    "    opacity=0.6,\n",
    ")\n",
    "doc"
   ]
  },
  {
   "cell_type": "code",
   "execution_count": null,
   "id": "d4a2ebd4-3d48-4aa7-8999-6684fdae0812",
   "metadata": {},
   "outputs": [],
   "source": [
    "doc = GISDocument(latitude=40.775, longitude=-73.973, zoom=13)\n",
    "\n",
    "doc.add_raster_layer(\n",
    "    url=\"https://tile.openstreetmap.org/{z}/{x}/{y}.png\",\n",
    "    name=\"Open Street Map\",\n",
    "    attribution=\"OpenStreetMap\",\n",
    "    opacity=0.6,\n",
    ")\n",
    "\n",
    "doc.add_vectortile_layer(\n",
    "    url=\"https://planetarycomputer.microsoft.com/api/data/v1/vector/collections/ms-buildings/tilesets/global-footprints/tiles/{z}/{x}/{y}\",\n",
    "    source_layer=\"bingmlbuildings\",\n",
    "    max_zoom=13,\n",
    "    min_zoom=13,\n",
    ")\n",
    "\n",
    "doc"
   ]
  }
 ],
 "metadata": {
  "kernelspec": {
   "display_name": "Python 3 (ipykernel)",
   "language": "python",
   "name": "python3"
  },
  "language_info": {
   "codemirror_mode": {
    "name": "ipython",
    "version": 3
   },
   "file_extension": ".py",
   "mimetype": "text/x-python",
   "name": "python",
   "nbconvert_exporter": "python",
   "pygments_lexer": "ipython3",
   "version": "3.12.4"
  }
 },
 "nbformat": 4,
 "nbformat_minor": 5
}
