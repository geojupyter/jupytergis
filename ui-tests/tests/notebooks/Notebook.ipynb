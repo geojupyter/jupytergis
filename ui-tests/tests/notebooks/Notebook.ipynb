{
 "cells": [
  {
   "cell_type": "code",
   "execution_count": null,
   "id": "d0f18a1a-7eda-4387-a2a3-ed0530c82548",
   "metadata": {},
   "outputs": [],
   "source": [
    "from jupytergis import GISDocument\n",
    "\n",
    "doc = GISDocument()\n",
    "\n",
    "doc.add_raster_layer(\n",
    "    url=\"https://mt1.google.com/vt/lyrs=y&x={x}&y={y}&z={z}\",\n",
    "    name=\"Google Satellite\",\n",
    "    attribution=\"Google\",\n",
    "    opacity=0.6,\n",
    ")\n",
    "\n",
    "doc"
   ]
  },
  {
   "cell_type": "code",
   "execution_count": null,
   "id": "b65dce55-9364-479e-ac7b-384cda9f422e",
   "metadata": {},
   "outputs": [],
   "source": [
    "doc = GISDocument(latitude=20.718, longitude=129.940, zoom=4)\n",
    "\n",
    "doc.add_raster_layer(\n",
    "    url=\"https://tile.openstreetmap.org/{z}/{x}/{y}.png\",\n",
    "    name=\"Open Street Map\",\n",
    "    attribution=\"OpenStreetMap\",\n",
    "    opacity=0.6,\n",
    ")\n",
    "doc"
   ]
  },
  {
   "cell_type": "code",
   "execution_count": null,
   "id": "d4a2ebd4-3d48-4aa7-8999-6684fdae0812",
   "metadata": {},
   "outputs": [],
   "source": [
    "doc = GISDocument(latitude=20.718, longitude=129.940, zoom=4)\n",
    "\n",
    "doc.add_raster_layer(\n",
    "    url=\"https://tile.openstreetmap.org/{z}/{x}/{y}.png\",\n",
    "    name=\"Open Street Map\",\n",
    "    attribution=\"OpenStreetMap\",\n",
    "    opacity=0.6,\n",
    ")\n",
    "\n",
    "doc.add_geojson_layer(path=\"./eq.json\")\n",
    "\n",
    "doc"
   ]
  },
  {
   "cell_type": "code",
   "execution_count": null,
   "id": "3a5fd3c6-2d81-4e93-be21-533df696d7b0",
   "metadata": {},
   "outputs": [],
   "source": [
    "doc = GISDocument()\n",
    "\n",
    "doc.add_heatmap_layer(path=\"./eq.json\", feature=\"mag\")\n",
    "\n",
    "doc"
   ]
  }
 ],
 "metadata": {
  "kernelspec": {
   "display_name": "Python 3 (ipykernel)",
   "language": "python",
   "name": "python3"
  },
  "language_info": {
   "codemirror_mode": {
    "name": "ipython",
    "version": 3
   },
   "file_extension": ".py",
   "mimetype": "text/x-python",
   "name": "python",
   "nbconvert_exporter": "python",
   "pygments_lexer": "ipython3",
   "version": "3.12.8"
  }
 },
 "nbformat": 4,
 "nbformat_minor": 5
}
